{
 "cells": [
  {
   "cell_type": "code",
   "execution_count": null,
   "metadata": {},
   "outputs": [
    {
     "name": "stdout",
     "output_type": "stream",
     "text": [
      " * Serving Flask app \"__main__\" (lazy loading)\n",
      " * Environment: production\n",
      "   WARNING: Do not use the development server in a production environment.\n",
      "   Use a production WSGI server instead.\n",
      " * Debug mode: off\n"
     ]
    },
    {
     "name": "stderr",
     "output_type": "stream",
     "text": [
      " * Running on http://localhost:5002/ (Press CTRL+C to quit)\n",
      "[2020-04-22 16:48:55,718] ERROR in app: Exception on / [GET]\n",
      "Traceback (most recent call last):\n",
      "  File \"C:\\Users\\hp\\Anaconda3\\lib\\site-packages\\flask\\app.py\", line 2292, in wsgi_app\n",
      "    response = self.full_dispatch_request()\n",
      "  File \"C:\\Users\\hp\\Anaconda3\\lib\\site-packages\\flask\\app.py\", line 1816, in full_dispatch_request\n",
      "    return self.finalize_request(rv)\n",
      "  File \"C:\\Users\\hp\\Anaconda3\\lib\\site-packages\\flask\\app.py\", line 1831, in finalize_request\n",
      "    response = self.make_response(rv)\n",
      "  File \"C:\\Users\\hp\\Anaconda3\\lib\\site-packages\\flask\\app.py\", line 1957, in make_response\n",
      "    'The view function did not return a valid response. The'\n",
      "TypeError: The view function did not return a valid response. The function either returned None or ended without a return statement.\n",
      "127.0.0.1 - - [22/Apr/2020 16:48:55] \"GET / HTTP/1.1\" 500 -\n"
     ]
    }
   ],
   "source": [
    "from flask import Flask,jsonify,redirect\n",
    "from execute import query\n",
    "\n",
    "app = Flask(__name__)\n",
    "\n",
    "@app.route(\"/\",methods=[\"POST\",\"GET\"])\n",
    "def home():\n",
    "    return redirect('/hey')\n",
    "\n",
    "@app.route(\"/hey\",methods=[\"POST\",\"GET\"])\n",
    "def hey():\n",
    "    \n",
    "    return \"hey\"\n",
    "\n",
    "@app.route(\"/chat/<inp>\",methods=[\"POST\",\"GET\"])\n",
    "def chat(inp):\n",
    "    result = query(inp)\n",
    "    return result\n",
    "\n",
    "\n",
    "if __name__== '__main__':\n",
    "    app.run(host=\"localhost\",port=5002,debug=False)"
   ]
  },
  {
   "cell_type": "code",
   "execution_count": null,
   "metadata": {},
   "outputs": [],
   "source": [
    "\n"
   ]
  },
  {
   "cell_type": "code",
   "execution_count": null,
   "metadata": {},
   "outputs": [],
   "source": []
  }
 ],
 "metadata": {
  "kernelspec": {
   "display_name": "Python 3",
   "language": "python",
   "name": "python3"
  },
  "language_info": {
   "codemirror_mode": {
    "name": "ipython",
    "version": 3
   },
   "file_extension": ".py",
   "mimetype": "text/x-python",
   "name": "python",
   "nbconvert_exporter": "python",
   "pygments_lexer": "ipython3",
   "version": "3.7.0"
  }
 },
 "nbformat": 4,
 "nbformat_minor": 2
}
